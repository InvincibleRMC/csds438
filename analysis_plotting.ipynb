{
 "cells": [
  {
   "cell_type": "code",
   "execution_count": null,
   "id": "0640c884",
   "metadata": {},
   "outputs": [
    {
     "ename": "",
     "evalue": "",
     "output_type": "error",
     "traceback": [
      "\u001b[1;31mRunning cells with 'c:\\Users\\rmc.CARLSTROM\\AppData\\Local\\Programs\\Python\\Python38\\python.exe' requires ipykernel package.\n",
      "\u001b[1;31mRun the following command to install 'ipykernel' into the Python environment. \n",
      "\u001b[1;31mCommand: 'c:/Users/rmc.CARLSTROM/AppData/Local/Programs/Python/Python38/python.exe -m pip install ipykernel -U --user --force-reinstall'"
     ]
    }
   ],
   "source": [
    "import numpy as np\n",
    "import pandas as pd\n",
    "from pandas import DataFrame\n",
    "import matplotlib.pyplot as plot\n",
    "from scipy.stats import spearmanr\n",
    "\n",
    "def main():\n",
    "    data: DataFrame = pd.read_csv('data/Group18Data_Fri_Dec_16_09:41:09_2022.csv')\n",
    "    customPlot(data,'Thread Count')\n",
    "    customPlot(data,'Elements', 16)\n",
    "    customPlot(data,'Elements', 8)\n",
    "    customPlot(data,'Elements', 1)\n",
    "    return data\n",
    "\n",
    "def customPlot(data: DataFrame, across: str, threads = 32):\n",
    "\n",
    "    threadCount: str = 'Thread Count'\n",
    "    elements: str = 'Elements'\n",
    "    algorithm: str = 'Algorithm'\n",
    "    time: str = 'Time'\n",
    "\n",
    "    if threadCount == across:\n",
    "        data = data[data[elements] == max(data[elements])]\n",
    "        X = data[[algorithm,threadCount,time]]\n",
    "    else:\n",
    "        data = data[data[threadCount] == threads]\n",
    "        X =data[[algorithm,elements,time]]\n",
    "    \n",
    "    customcmap = [\"red\", \"blue\", \"green\",\"grey\",\"orange\",\"purple\"]\n",
    "    \n",
    "    fig, axis = plot.subplots(figsize=(8, 6))\n",
    "    algorithmNames = np.unique(X[algorithm])\n",
    "\n",
    "    for i in range(len(algorithmNames)):\n",
    "        algoData = X[X[algorithm] == algorithmNames[i]].groupby(across).mean(numeric_only=True).reset_index()\n",
    "        x = np.array(algoData[across])\n",
    "        y = np.array(algoData[time])\n",
    "        #Confidence interval stuff\n",
    "        #ci = 0.915365* np.std(y)/np.sqrt(len(x))\n",
    "        plot.plot(x, y,label=str(algorithmNames[i]), marker='o', color=customcmap[i])\n",
    "        #confidence interval fill in b/w\n",
    "        #plot.fill_between(x, (y-ci), (y+ci), color=customcmap[i], alpha=.1)\n",
    "        #plot.plot(x, (y-ci),'--', color=customcmap[i])\n",
    "        #plot.plot(x, (y+ci),'--', color=customcmap[i])\n",
    "        \n",
    "        #Spearman correlation\n",
    "        if across == 'Thread Count':\n",
    "            coef, p = spearmanr(x, y)\n",
    "            print(\"Spearman correlation:\", algorithmNames[i], coef)\n",
    "        if across == 'Elements':\n",
    "            plot.title(f'Runtime vs Element count for {threads} threads')\n",
    "        \n",
    "    plot.legend(loc='best')\n",
    "    axis.set_xlabel(across, fontsize=20)\n",
    "    axis.set_ylabel(r'Time (s)', fontsize=20)\n",
    "    if(across == threadCount):\n",
    "        plot.savefig('graphs/' + across +'.png')\n",
    "    else:\n",
    "        plot.savefig('graphs/' + across + '_' + threadCount +'.png')"
   ]
  },
  {
   "cell_type": "code",
   "execution_count": null,
   "id": "384b4e8b",
   "metadata": {},
   "outputs": [
    {
     "ename": "",
     "evalue": "",
     "output_type": "error",
     "traceback": [
      "\u001b[1;31mRunning cells with 'c:\\Users\\rmc.CARLSTROM\\AppData\\Local\\Programs\\Python\\Python38\\python.exe' requires ipykernel package.\n",
      "\u001b[1;31mRun the following command to install 'ipykernel' into the Python environment. \n",
      "\u001b[1;31mCommand: 'c:/Users/rmc.CARLSTROM/AppData/Local/Programs/Python/Python38/python.exe -m pip install ipykernel -U --user --force-reinstall'"
     ]
    }
   ],
   "source": [
    "main()"
   ]
  },
  {
   "cell_type": "code",
   "execution_count": null,
   "id": "f7b72cb9",
   "metadata": {},
   "outputs": [],
   "source": []
  },
  {
   "cell_type": "code",
   "execution_count": null,
   "id": "787bc542",
   "metadata": {},
   "outputs": [],
   "source": []
  }
 ],
 "metadata": {
  "kernelspec": {
   "display_name": "Python 3",
   "language": "python",
   "name": "python3"
  },
  "language_info": {
   "codemirror_mode": {
    "name": "ipython",
    "version": 3
   },
   "file_extension": ".py",
   "mimetype": "text/x-python",
   "name": "python",
   "nbconvert_exporter": "python",
   "pygments_lexer": "ipython3",
   "version": "3.8.2 (tags/v3.8.2:7b3ab59, Feb 25 2020, 23:03:10) [MSC v.1916 64 bit (AMD64)]"
  },
  "vscode": {
   "interpreter": {
    "hash": "4bb094ad31d33efeaa6c48e496c9a3e7c23d139dd71f11bbf6ee162d2e97e17c"
   }
  }
 },
 "nbformat": 4,
 "nbformat_minor": 5
}
